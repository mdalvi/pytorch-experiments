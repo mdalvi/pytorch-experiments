{
 "cells": [
  {
   "cell_type": "code",
   "execution_count": 1,
   "metadata": {},
   "outputs": [],
   "source": [
    "import torch\n",
    "import torch.nn as nn\n",
    "import torch.nn.functional as F\n",
    "import torch.optim as optim"
   ]
  },
  {
   "cell_type": "code",
   "execution_count": 2,
   "metadata": {},
   "outputs": [],
   "source": [
    "class Perceptron(nn.Module):\n",
    "    def __init__(self):\n",
    "        super(Perceptron, self).__init__()        \n",
    "        self.fc1 = nn.Linear(2, 1)\n",
    "        \n",
    "    def forward(self, x):\n",
    "        x = self.fc1(x)\n",
    "        return x"
   ]
  },
  {
   "cell_type": "code",
   "execution_count": 3,
   "metadata": {},
   "outputs": [
    {
     "name": "stdout",
     "output_type": "stream",
     "text": [
      "Perceptron(\n",
      "  (fc1): Linear(in_features=2, out_features=1, bias=True)\n",
      ")\n"
     ]
    }
   ],
   "source": [
    "net = Perceptron()\n",
    "print(net)"
   ]
  },
  {
   "cell_type": "code",
   "execution_count": 4,
   "metadata": {},
   "outputs": [],
   "source": [
    "and_inputs = [(0.0, 0.0), (0.0, 1.0), (1.0, 0.0), (1.0, 1.0)]\n",
    "and_outputs = [(0.0,), (1.0,), (1.0,), (1.0,)]"
   ]
  },
  {
   "cell_type": "code",
   "execution_count": 5,
   "metadata": {},
   "outputs": [
    {
     "data": {
      "text/plain": [
       "Adam (\n",
       "Parameter Group 0\n",
       "    amsgrad: False\n",
       "    betas: (0.9, 0.999)\n",
       "    eps: 1e-08\n",
       "    lr: 0.01\n",
       "    weight_decay: 0\n",
       ")"
      ]
     },
     "execution_count": 5,
     "metadata": {},
     "output_type": "execute_result"
    }
   ],
   "source": [
    "optimizer = optim.Adam(net.parameters(), lr=0.01)\n",
    "optimizer"
   ]
  },
  {
   "cell_type": "code",
   "execution_count": 6,
   "metadata": {},
   "outputs": [
    {
     "data": {
      "text/plain": [
       "MSELoss()"
      ]
     },
     "execution_count": 6,
     "metadata": {},
     "output_type": "execute_result"
    }
   ],
   "source": [
    "mse_loss = nn.MSELoss()\n",
    "mse_loss"
   ]
  },
  {
   "cell_type": "code",
   "execution_count": 7,
   "metadata": {},
   "outputs": [
    {
     "data": {
      "text/plain": [
       "[(tensor([0., 0.]), tensor([0.])),\n",
       " (tensor([0., 1.]), tensor([1.])),\n",
       " (tensor([1., 0.]), tensor([1.])),\n",
       " (tensor([1., 1.]), tensor([1.]))]"
      ]
     },
     "execution_count": 7,
     "metadata": {},
     "output_type": "execute_result"
    }
   ],
   "source": [
    "training_data = [(torch.Tensor(x), torch.Tensor(y)) for x, y in zip(and_inputs, and_outputs)]\n",
    "training_data"
   ]
  },
  {
   "cell_type": "code",
   "execution_count": 8,
   "metadata": {},
   "outputs": [
    {
     "data": {
      "text/plain": [
       "[(tensor([0., 0.]), tensor([0.])),\n",
       " (tensor([0., 1.]), tensor([1.])),\n",
       " (tensor([1., 0.]), tensor([1.])),\n",
       " (tensor([1., 1.]), tensor([1.]))]"
      ]
     },
     "execution_count": 8,
     "metadata": {},
     "output_type": "execute_result"
    }
   ],
   "source": [
    "testing_data = [(torch.Tensor(x), torch.Tensor(y)) for x, y in zip(and_inputs, and_outputs)]\n",
    "testing_data"
   ]
  },
  {
   "cell_type": "code",
   "execution_count": 9,
   "metadata": {},
   "outputs": [
    {
     "name": "stdout",
     "output_type": "stream",
     "text": [
      "Epoch [10] Loss: 0.4330166227\n",
      "Epoch [20] Loss: 0.3295403104\n",
      "Epoch [30] Loss: 0.2914422434\n",
      "Epoch [40] Loss: 0.2736582458\n",
      "Epoch [50] Loss: 0.2641635016\n",
      "Epoch [60] Loss: 0.2589218058\n"
     ]
    }
   ],
   "source": [
    "for epoch in range(60):\n",
    "    running_loss = 0.0\n",
    "    for data in training_data:\n",
    "        inputs, labels = data\n",
    "\n",
    "        optimizer.zero_grad()\n",
    "\n",
    "        outputs = net(inputs)\n",
    "        loss = mse_loss(outputs, labels)\n",
    "        loss.backward()\n",
    "        optimizer.step()\n",
    "\n",
    "        running_loss += loss.item()\n",
    "    if (epoch + 1) % 10 == 0:\n",
    "        print('Epoch [{0}] Loss: {1:.10f}'.format(epoch + 1, running_loss))"
   ]
  },
  {
   "cell_type": "code",
   "execution_count": 10,
   "metadata": {},
   "outputs": [
    {
     "name": "stdout",
     "output_type": "stream",
     "text": [
      "tensor([[0.4329, 0.4698]])\n",
      "tensor([0.3108])\n"
     ]
    }
   ],
   "source": [
    "for param in net.parameters():\n",
    "    print(param.data)"
   ]
  },
  {
   "cell_type": "code",
   "execution_count": 11,
   "metadata": {},
   "outputs": [
    {
     "name": "stdout",
     "output_type": "stream",
     "text": [
      "\n",
      "Final results:\n",
      "tensor([0., 0.]) tensor([0.3108])\n",
      "tensor([0., 1.]) tensor([0.7806])\n",
      "tensor([1., 0.]) tensor([0.7437])\n",
      "tensor([1., 1.]) tensor([1.2135])\n"
     ]
    }
   ],
   "source": [
    "print(\"\")\n",
    "print(\"Final results:\")\n",
    "for data in testing_data:\n",
    "    inputs, labels = data\n",
    "    with torch.no_grad():\n",
    "        output = net(inputs)\n",
    "        print(inputs, output)"
   ]
  },
  {
   "cell_type": "code",
   "execution_count": 12,
   "metadata": {},
   "outputs": [
    {
     "data": {
      "text/plain": [
       "[[[0.43286392092704773, 0.4697785973548889]], [0.3108426630496979]]"
      ]
     },
     "execution_count": 12,
     "metadata": {},
     "output_type": "execute_result"
    }
   ],
   "source": [
    "weights = []\n",
    "for param in net.parameters():\n",
    "    weights.append(param.data.numpy().tolist())\n",
    "weights"
   ]
  },
  {
   "cell_type": "code",
   "execution_count": 13,
   "metadata": {},
   "outputs": [],
   "source": [
    "def flat_weights(weights, flattned):\n",
    "    for w in weights:\n",
    "        if type(w) == list:\n",
    "            flat_weights(w, flattned)\n",
    "        else:\n",
    "            flattned.append(w)"
   ]
  },
  {
   "cell_type": "code",
   "execution_count": 14,
   "metadata": {},
   "outputs": [
    {
     "data": {
      "text/plain": [
       "[0.43286392092704773, 0.4697785973548889, 0.3108426630496979]"
      ]
     },
     "execution_count": 14,
     "metadata": {},
     "output_type": "execute_result"
    }
   ],
   "source": [
    "flattned_weights = []\n",
    "flat_weights(weights, flattned_weights)\n",
    "flattned_weights"
   ]
  },
  {
   "cell_type": "code",
   "execution_count": 16,
   "metadata": {},
   "outputs": [
    {
     "data": {
      "text/plain": [
       "[0.43286392092704773, 0.4697785973548889, 0.29]"
      ]
     },
     "execution_count": 16,
     "metadata": {},
     "output_type": "execute_result"
    }
   ],
   "source": [
    "flattned_weights[2] = 0.29\n",
    "flattned_weights"
   ]
  },
  {
   "cell_type": "code",
   "execution_count": 17,
   "metadata": {},
   "outputs": [],
   "source": [
    "def search_and_replace(weights, replacements, replace_idx=0):\n",
    "    for i, l in enumerate(weights):\n",
    "        if type(l) == list:\n",
    "            replace_idx = search_and_replace(l, replacements, replace_idx)\n",
    "        else:\n",
    "            weights[i] = replacements[replace_idx]\n",
    "            replace_idx += 1  \n",
    "    return replace_idx"
   ]
  },
  {
   "cell_type": "code",
   "execution_count": 19,
   "metadata": {},
   "outputs": [],
   "source": [
    "_ = search_and_replace(weights, flattned_weights, 0)"
   ]
  },
  {
   "cell_type": "code",
   "execution_count": 20,
   "metadata": {},
   "outputs": [
    {
     "data": {
      "text/plain": [
       "[[[0.43286392092704773, 0.4697785973548889]], [0.29]]"
      ]
     },
     "execution_count": 20,
     "metadata": {},
     "output_type": "execute_result"
    }
   ],
   "source": [
    "weights"
   ]
  },
  {
   "cell_type": "code",
   "execution_count": 21,
   "metadata": {},
   "outputs": [],
   "source": [
    "for param, new_weights in zip(net.parameters(), weights):\n",
    "    param.data = torch.tensor(new_weights, requires_grad=True)"
   ]
  },
  {
   "cell_type": "code",
   "execution_count": 22,
   "metadata": {},
   "outputs": [
    {
     "name": "stdout",
     "output_type": "stream",
     "text": [
      "\n",
      "Final results:\n",
      "tensor([0., 0.]) tensor([0.2900])\n",
      "tensor([0., 1.]) tensor([0.7598])\n",
      "tensor([1., 0.]) tensor([0.7229])\n",
      "tensor([1., 1.]) tensor([1.1926])\n"
     ]
    }
   ],
   "source": [
    "print(\"\")\n",
    "print(\"Final results:\")\n",
    "for data in testing_data:\n",
    "    inputs, labels = data\n",
    "    with torch.no_grad():\n",
    "        output = net(inputs)\n",
    "        print(inputs, output)"
   ]
  },
  {
   "cell_type": "code",
   "execution_count": 23,
   "metadata": {},
   "outputs": [
    {
     "name": "stdout",
     "output_type": "stream",
     "text": [
      "tensor([[0.4329, 0.4698]])\n",
      "tensor([0.2900])\n"
     ]
    }
   ],
   "source": [
    "for param in net.parameters():\n",
    "    print(param.data)"
   ]
  },
  {
   "cell_type": "code",
   "execution_count": 24,
   "metadata": {},
   "outputs": [],
   "source": [
    "class MyModule(nn.Module):\n",
    "    def __init__(self):\n",
    "        super(MyModule, self).__init__()\n",
    "        self.choices = nn.ModuleDict({\n",
    "                'conv': nn.Conv2d(10, 10, 3),\n",
    "                'pool': nn.MaxPool2d(3)\n",
    "        })\n",
    "        self.activations = nn.ModuleDict([\n",
    "                ['lrelu', nn.LeakyReLU()],\n",
    "                ['prelu', nn.PReLU()]\n",
    "        ])\n",
    "\n",
    "    def forward(self, x, choice, act):\n",
    "        x = self.choices[choice](x)\n",
    "        x = self.activations[act](x)\n",
    "        return x"
   ]
  },
  {
   "cell_type": "code",
   "execution_count": null,
   "metadata": {},
   "outputs": [],
   "source": []
  }
 ],
 "metadata": {
  "kernelspec": {
   "display_name": "Python 3",
   "language": "python",
   "name": "python3"
  },
  "language_info": {
   "codemirror_mode": {
    "name": "ipython",
    "version": 3
   },
   "file_extension": ".py",
   "mimetype": "text/x-python",
   "name": "python",
   "nbconvert_exporter": "python",
   "pygments_lexer": "ipython3",
   "version": "3.6.3"
  }
 },
 "nbformat": 4,
 "nbformat_minor": 2
}
